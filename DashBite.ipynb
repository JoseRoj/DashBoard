{
 "cells": [
  {
   "cell_type": "code",
   "execution_count": 1,
   "id": "8091f9a4-b6a5-42a5-8c53-06794c606614",
   "metadata": {},
   "outputs": [],
   "source": [
    "import numpy as np  # útil para cómputos matemáticos en Python\n",
    "import pandas as pd # biblioteca para estructuras de datos\n",
    "from dash import Dash, dcc, Output, Input  # pip install dash\n",
    "import dash_bootstrap_components as dbc    # pip install dash-bootstrap-components"
   ]
  },
  {
   "cell_type": "code",
   "execution_count": 2,
   "id": "98198684-eb50-4464-877d-f308433efd67",
   "metadata": {},
   "outputs": [
    {
     "name": "stdout",
     "output_type": "stream",
     "text": [
      "Data read into a pandas dataframe!\n"
     ]
    }
   ],
   "source": [
    "df_bite = pd.read_excel('Datas.xlsx',\n",
    "                      sheet_name = 'Sheet1',\n",
    "                      skipfooter = 0)\n",
    "\n",
    "print ('Data read into a pandas dataframe!')"
   ]
  },
  {
   "cell_type": "code",
   "execution_count": 3,
   "id": "ff0ede53-cc5c-4071-a5d3-551acc38de81",
   "metadata": {},
   "outputs": [],
   "source": [
    "%matplotlib inline \n",
    "import plotly.express as px"
   ]
  },
  {
   "cell_type": "code",
   "execution_count": 4,
   "id": "3cd0387a-5a6b-4741-86d4-3ce7cdbcf157",
   "metadata": {},
   "outputs": [],
   "source": [
    "L = {'ANKLE','BACK LEG','L LEG', 'LEFT LEG', 'LEGS', 'R LEG', 'RIGHT LEG', 'L FOOT','R FOOT','FEET'}\n",
    "Legs = list(L) \n",
    "A = {'ARMS','L ARM','LFOREARM','R ARM','HANDS','R HAND', 'L HAND','LEFT HAND','RPINKY','R FINGER','BOTH HANDS'}\n",
    "Arms = list(A) \n",
    "H = {'HEAD','FACE'}\n",
    "Head = list(H) \n",
    "Filters = list()\n",
    "FilterLegs = (df_bite['Bite_Location'] == Legs[0]) | (df_bite['Bite_Location'] == Legs[1])| (df_bite['Bite_Location'] == Legs[2])|(df_bite['Bite_Location'] == Legs[3]) | (df_bite['Bite_Location'] == Legs[4])| (df_bite['Bite_Location'] == Legs[5])| (df_bite['Bite_Location'] == Legs[6])|(df_bite['Bite_Location'] == Legs[7]) | (df_bite['Bite_Location'] == Legs[8])| (df_bite['Bite_Location'] == Legs[9])\n",
    "FilterArms = (df_bite['Bite_Location'] == Arms[0]) | (df_bite['Bite_Location'] == Arms[1])| (df_bite['Bite_Location'] == Arms[2])|(df_bite['Bite_Location'] == Arms[3]) | (df_bite['Bite_Location'] == Arms[4])| (df_bite['Bite_Location'] == Arms[5])| (df_bite['Bite_Location'] == Arms[6])|(df_bite['Bite_Location'] == Arms[7]) | (df_bite['Bite_Location'] == Arms[8])| (df_bite['Bite_Location'] == Arms[9])| (df_bite['Bite_Location'] == Arms[10])\n",
    "FilterButtocks = (df_bite['Bite_Location'] == 'BUTTOCKS')\n",
    "FilterHead = (df_bite['Bite_Location'] == Head[0])| (df_bite['Bite_Location'] == Head[1])\n",
    "FilterTorso = (df_bite['Bite_Location'] == 'TORSO')\n",
    "FilterAll = (df_bite['Bite_Location'] == 'ALL')\n",
    "FilterNaN = (df_bite['Bite_Location'].isnull())\n",
    "Filters.append(FilterLegs)\n",
    "Filters.append(FilterArms)\n",
    "Filters.append(FilterButtocks)\n",
    "Filters.append(FilterHead)\n",
    "Filters.append(FilterTorso)\n",
    "Filters.append(FilterAll)\n",
    "Filters.append(FilterNaN)\n"
   ]
  },
  {
   "cell_type": "code",
   "execution_count": 5,
   "id": "20b0b209-e5fd-400b-b1d2-46322d64e3fe",
   "metadata": {},
   "outputs": [
    {
     "data": {
      "text/plain": [
       "(None, None, None, None)"
      ]
     },
     "execution_count": 5,
     "metadata": {},
     "output_type": "execute_result"
    }
   ],
   "source": [
    "Col = list()\n",
    "Col.append('Leg o Feet'),Col.append('Arms o Hands'),Col.append('Buttocks')\n",
    "Col.append('Head'),Col.append('Torso'),Col.append('Full Body'),Col.append('Unknow')"
   ]
  },
  {
   "cell_type": "code",
   "execution_count": 6,
   "id": "531b9f95-b838-432d-8125-04a81a5be545",
   "metadata": {},
   "outputs": [],
   "source": [
    "import folium\n",
    "#conda install folium\n",
    "#conda install -c conda-forge geopy\n",
    "#pip3 install  wordcloud \n",
    "from wordcloud import WordCloud\n",
    "world_map = folium.Map()\n",
    "Dallas_map = folium.Map(location=[32.7766642,-96.79698789999999], zoom_start=11, tiles='Stamen Terrain')\n",
    "#Dallas_map\"\"\""
   ]
  },
  {
   "cell_type": "code",
   "execution_count": 7,
   "id": "749e35ec-f0c3-437e-a1bf-492a3e2b5b49",
   "metadata": {},
   "outputs": [],
   "source": [
    "from folium import plugins\n",
    "import dateutil.parser\n",
    "# comenzamos con un nuevo mapa limpio\n",
    "#sanfran_map = folium.Map(location = [latitude, longitude], zoom_start = 12)\n",
    "\n",
    "# creamos un nuevo objeto MarketCluster para los incidentes\n",
    "incidents = plugins.MarkerCluster().add_to(Dallas_map)\n",
    "\n",
    "# la iteración es la misma, con descripción más simple\n",
    "for lat, lng, label, label2 , label3, label4, label5 in zip(df_bite.Latitude, df_bite.Longitude, df_bite.Victim_Age, df_bite.Bite_Severity, df_bite.Incident_Date, df_bite.Victim_Relationship, df_bite.Bite_Circumstance):\n",
    "\n",
    "    fecha = label3.strftime(\"%Y-%m-%d\")\n",
    "    html= f\"\"\"\n",
    "        <li> Victim Age: {label}</li>\n",
    "        <li> Bite Severity: {label2} </li>\n",
    "        <li> Incident Date: {fecha} </li>\n",
    "        <li> Victim Relationship: {label4} </li>\n",
    "        <li> Bite Circunstances: {label5} </li>\n",
    "        \"\"\"\n",
    "    if lat == lat:\n",
    "        iframe = folium.IFrame(html=html, width=280, height = 120)\n",
    "        folium.Marker(\n",
    "            location = [lat, lng],\n",
    "            icon = None,\n",
    "            popup = folium.Popup(iframe, max_width=2650) # categoría al alcanzar el mayor nivel de zoom\n",
    "        ).add_to(incidents)\n",
    "\n",
    "# desplegamos mapa\n",
    "incidents.save(\"Dallas.html\")\n",
    "###Dallas_map"
   ]
  },
  {
   "cell_type": "code",
   "execution_count": 8,
   "id": "43826387-3cc3-4fe1-b994-1270bc7ec7b0",
   "metadata": {},
   "outputs": [],
   "source": [
    "from dash import Dash, dcc, Output, Input  # pip install dash\n",
    "import dash_bootstrap_components as dbc    # pip install dash-bootstrap-components\n",
    "from dash import html\n",
    "import plotly.express as px\n",
    "#pip install dash-html-components\n"
   ]
  },
  {
   "cell_type": "code",
   "execution_count": 9,
   "id": "405e083f-081a-46f5-9045-1715f0aaaa66",
   "metadata": {},
   "outputs": [],
   "source": [
    "from datetime import date\n",
    "app = Dash(__name__, external_stylesheets=[dbc.themes.LUX])\n",
    "mygraph1 = dcc.Graph(figure={})\n",
    "mygraph2 = dcc.Graph(figure={})\n",
    "mygraph3 = dcc.Graph(figure={})\n",
    "mygraph4 = dcc.Graph(figure={})\n",
    "rangeLine = dcc.RangeSlider(min=0, max=100, step=25, value=[0, 25])\n",
    "Daterange = dcc.DatePickerRange(\n",
    "                start_date=date(2019, 9, 1),\n",
    "                clearable=True,\n",
    "                with_portal=True,\n",
    "                end_date=date(2020, 9, 30),\n",
    "                persisted_props = ['start_date', 'end_date'],\n",
    "                min_date_allowed = date(2019, 9, 1),\n",
    "                max_date_allowed = date(2020, 9, 30),\n",
    "                initial_visible_month=date (2020, 4, 1),\n",
    "    )\n",
    "DaterangePie = dcc.DatePickerRange(\n",
    "                start_date=date(2019, 9, 1),\n",
    "                clearable=True,\n",
    "                with_portal=True,\n",
    "                end_date=date(2020, 9, 30),\n",
    "                persisted_props = ['start_date', 'end_date'],\n",
    "                min_date_allowed = date(2019, 9, 1),\n",
    "                max_date_allowed = date(2020, 9, 30),\n",
    "                initial_visible_month=date (2020, 4, 1),\n",
    "    )\n",
    "dropdown = dcc.Dropdown(options= [ 'WordCloud of Victim Relation Ship', 'WordCloud of Victim Bite Severity', 'WordCloud of Controlled By' ] ,\n",
    "                        value='WordCloud of Victim Relation Ship',  # valor inicial al desplegar el dashboard\n",
    "                        clearable=False)"
   ]
  },
  {
   "cell_type": "code",
   "execution_count": 10,
   "id": "275b0852-0a2a-45d6-9edd-4477fadc59dc",
   "metadata": {},
   "outputs": [],
   "source": [
    "# Personalización de layout\n",
    "# Otra forma de personalizar el dashboard. Por filas\n",
    "app.layout = dbc.Container([\n",
    "    dbc.Row([\n",
    "        html.Div([\n",
    "            html.H1(\"DashBoard of Dog Bites in Dallas\", style={'color': 'blue', 'font-size': 30, 'textAlign': 'center', 'font-family': 'georgia', 'margin': 30}),\n",
    "            html.P(\"In the next Dashboard it show information about dog bites in Dallas,Texas  from september 2019 to september 2020, with the objective to informate which\" + \n",
    "                 \" parts of the body are more likely to be afected, age of the victim and the relationship of the dog and its victim\",style={'color': 'black', 'font-size': 15, 'textAlign': 'center', 'font-family': 'georgia'}),\n",
    "        ]),\n",
    "        dbc.Col([\n",
    "            html.Div(\n",
    "            [\n",
    "                html.H1(\"Map of Dog Bites in Dallas\", style={'color': 'black', 'font-size': 20, 'textAlign': 'center', 'font-family': 'georgia'}),\n",
    "                html.P(\"Map to help visualize in what parts of Dallas there was a Dog atack\", style={'color': 'black', 'font-size': 15, 'textAlign': 'center'}),\n",
    "                html.Iframe(id = \"map\", srcDoc = open(\"Dallas.html\", \"r\").read() , width = '100%' , height = '600', style={'margin-bottom': 50})\n",
    "            ]\n",
    "        )\n",
    "        ])], justify='center'),\n",
    "    dbc.Row([\n",
    "        dbc.Col([\n",
    "                html.H1( id = 'title-graph1', children = '', style={'color': 'black', 'font-size': 20, 'textAlign': 'center'}),\n",
    "                html.P(id = 'subtitle-graph1', style={'color': 'black', 'font-size': 15, 'textAlign': 'center'}),\n",
    "                mygraph1,\n",
    "                rangeLine,\n",
    "                ], style = {\"borderRight\": \"2px solid grey\"},width=6),\n",
    "        dbc.Col([\n",
    "                html.H1( id = 'title-graph2', children = '', style={'color': 'black', 'font-size': 20, 'textAlign': 'center'}),\n",
    "                html.P(\"In this representation, we can se diferent keyword, and the bigger it gets, the more times it appears\", style={'color': 'black', 'font-size': 15, 'textAlign': 'center'}),\n",
    "                mygraph2,\n",
    "                dropdown\n",
    "            ],width=6 ),\n",
    "    ],style = {\"borderBottom\" : \"2px solid grey\", \"borderTop\": \"2px solid grey\"}, justify='center'),\n",
    "    dbc.Row([\n",
    "        dbc.Col([Daterange], style = {\"margin\": 50},width = 3)\n",
    "    ],align = 'center', justify = 'center'),\n",
    "    dbc.Row([\n",
    "        dbc.Col([ html.H1(id = 'title-hist', children = '', style={'color': 'black', 'font-size': 20, 'textAlign': 'center'}),\n",
    "                 html.P(id = 'subtitle-hist', style={'color': 'black', 'font-size': 15, 'textAlign': 'center'}),\n",
    "                mygraph3],width = 6),\n",
    "        dbc.Col([\n",
    "            html.H1( id = 'title-Pie', children = '', style={'color': 'black', 'font-size': 20, 'textAlign': 'center'}),\n",
    "            html.P(id = 'subtitle-Pie', style={'color': 'black', 'font-size': 15, 'textAlign': 'center'}),\n",
    "            mygraph4,\n",
    "            #Daterange\n",
    "            ],width = 6)\n",
    "    ],justify = 'center'),\n",
    "], fluid=True)\n"
   ]
  },
  {
   "cell_type": "code",
   "execution_count": 11,
   "id": "f86d08dd-2c39-46d3-bc71-4de8edae3296",
   "metadata": {},
   "outputs": [],
   "source": [
    "\n",
    "@app.callback(\n",
    "    Output(mygraph1, component_property='figure'),\n",
    "    Output('title-graph1', component_property='children'),\n",
    "    Output('subtitle-graph1', component_property='children'),\n",
    "    Input( rangeLine, 'value')\n",
    ")\n",
    "\n",
    "def update_graph(range_values):  # argumento desde el component_property del Input\n",
    "    df_Incident = {\n",
    "        'Fecha' : [],\n",
    "        'Cantidad' : []\n",
    "    }\n",
    "    titlegraph1 = f\"Dog Bites from 09 - 2019 to 09 - 2020, in people in between of the ages of {range_values[0]} to {range_values[1]} \" \n",
    "    subtitlegraph1 = f'This representation helps to visualize the quantity of victim in between the ages of {range_values[0]} and {range_values[1]}, on different months in Dallas'\n",
    "    idx = pd.date_range(\"2019-09-01 \", periods=14, freq=\"M\")\n",
    "    idx = pd.to_datetime(idx)\n",
    "    df_bite['Incident_Date'] = pd.to_datetime(df_bite['Incident_Date'])\n",
    "    s = pd.Series(['sep 2019','oct 2019','nov 2019','dec 2019','jan 2020','feb 2020','mar 2020','apr 2020','may 2020','jun 2020','jul 2020','aug 2020','sep 2020','oct 2020'])\n",
    "    for x in (range(len(idx) - 1)):\n",
    "        filtro = (df_bite['Incident_Date'] >= idx[x]) & (df_bite['Incident_Date'] <= idx[x + 1]) & (df_bite['Victim_Age'] >= range_values[0] ) & (df_bite['Victim_Age'] <= range_values[1])\n",
    "    #print(idx[ x + 1])\n",
    "        df_Incident['Fecha'].append(s[x])\n",
    "        df_Incident['Cantidad'].append(len(df_bite.loc[filtro]))\n",
    "        \n",
    "    df_Incidente = pd.DataFrame(df_Incident)\n",
    "    fig = px.line(df_Incidente, x = 'Fecha', y = 'Cantidad', markers = True, \n",
    "            labels = {'Fecha': 'Month - Year of the Bite', 'Cantidad': 'Quantity of Bites'})\n",
    "    return fig , titlegraph1,  subtitlegraph1\n",
    "   "
   ]
  },
  {
   "cell_type": "code",
   "execution_count": 12,
   "id": "79d28cbb",
   "metadata": {},
   "outputs": [],
   "source": [
    "@app.callback(\n",
    "    Output(mygraph2, component_property='figure'),\n",
    "    Output('title-graph2', 'children'),\n",
    "    Input( dropdown, 'value')\n",
    "    #Input(dropdown, component_property='value')\n",
    ")\n",
    "def update_graph(value):\n",
    "    strg = ''\n",
    "    if value == 'WordCloud of Victim Relation Ship':\n",
    "        strg =  'Victim_Relationship'\n",
    "    elif value == 'WordCloud of Victim Bite Severity':\n",
    "        strg = 'Bite_Severity'\n",
    "    elif value == 'WordCloud of Controlled By':\n",
    "        strg = 'Controlled _By'\n",
    "    df1 = df_bite[strg]\n",
    "    max_words = 10000\n",
    "    word_string = ''\n",
    "    for i in df1.index.values:\n",
    "    # chequeamos si el nombre del país tiene más de una palabra\n",
    "        if len(str(df1[i])) > 0:\n",
    "            word_string = word_string + (str(df1[i]) + ' ')       \n",
    "    wordcloud = WordCloud(background_color='white', collocations=False).generate(word_string)\n",
    "    fig = px.imshow(wordcloud, color_continuous_scale= 'Viridis')\n",
    "    fig.update_layout(xaxis=dict(showticklabels=False, showgrid=False, zeroline=False),\n",
    "            yaxis=dict(showticklabels=False, showgrid=False, zeroline=False),\n",
    "            hovermode=False )\n",
    "    return fig, value"
   ]
  },
  {
   "cell_type": "code",
   "execution_count": 13,
   "id": "a5233dd7",
   "metadata": {},
   "outputs": [],
   "source": [
    "\n",
    "@app.callback(\n",
    "    Output(mygraph3, 'figure'),\n",
    "    Output('title-hist', component_property='children'),\n",
    "    Output('subtitle-hist', component_property='children'),\n",
    "    Input( Daterange, 'start_date'),\n",
    "    Input( Daterange, 'end_date'))\n",
    "def update_graph(start_date, end_date):\n",
    "    titlegraph3 = f\"Histogram of the ages of people biten in between the dates of {start_date} and {end_date}\"\n",
    "    subtitlegraph3 = f\"This representation helps to visualize the age range of people who were the most repetitive victims of dog bites in the dates of {start_date} to {end_date} in Dallas\"\n",
    "    df1 = df_bite.loc[(df_bite['Victim_Age'] >= 0) & (df_bite['Incident_Date'] >= start_date) & (df_bite['Incident_Date'] <= end_date)] \n",
    "    fig = px.histogram(df1, x = \"Victim_Age\",nbins = 10, labels = {'Victim_Age' : 'Age of the Victim'})\n",
    "    fig.update_layout(yaxis=dict(title='Number of Victims'))\n",
    "    return fig, titlegraph3, subtitlegraph3\n"
   ]
  },
  {
   "cell_type": "code",
   "execution_count": 14,
   "id": "ba2444e9",
   "metadata": {},
   "outputs": [],
   "source": [
    "@app.callback(\n",
    "    Output(mygraph4, 'figure'),\n",
    "    Output('title-Pie', 'children'),\n",
    "    Output('subtitle-Pie', 'children'),\n",
    "    Input( Daterange, 'start_date'),\n",
    "    Input( Daterange, 'end_date'))\n",
    "def update_graph(start_date, end_date):\n",
    "    df_pie = {\n",
    "        'Localizacion' : [],\n",
    "        'Cantidad' : []\n",
    "    }\n",
    "    i = 0\n",
    "    for x in Filters:\n",
    "        df_pie['Localizacion'].append(Col[i]) \n",
    "        df_pie['Cantidad'].append(len(df_bite.loc[ x & (df_bite['Incident_Date'] >= start_date) & (df_bite['Incident_Date'] <= end_date)]))\n",
    "        i = i + 1\n",
    "    title = f'Percentage of afected locations of the body in between {start_date} to {end_date}'\n",
    "    subtitle = f'This representation helps to visualize the body parts of the victims, that were afected by the dog bites, on the dates between {start_date} to {end_date}'\n",
    "    df = pd.DataFrame(df_pie)\n",
    "    fig = px.pie(df, values = 'Cantidad', names = 'Localizacion',labels = {'Localizacion': 'Bite Location', 'Cantidad': 'Quantity'})\n",
    "    fig.update_traces(textinfo='label+percent' ,marker = dict(line = dict(color = 'black', width = 1)),domain=dict(x=[0.2, 1]))\n",
    "    return fig, title, subtitle"
   ]
  },
  {
   "cell_type": "code",
   "execution_count": 15,
   "id": "e31d2846-f94f-4dbf-a1fb-4cdba65f8fc4",
   "metadata": {},
   "outputs": [
    {
     "name": "stdout",
     "output_type": "stream",
     "text": [
      "Dash is running on http://127.0.0.1:8058/\n",
      "\n",
      " * Serving Flask app '__main__'\n",
      " * Debug mode: off\n"
     ]
    },
    {
     "name": "stderr",
     "output_type": "stream",
     "text": [
      "WARNING: This is a development server. Do not use it in a production deployment. Use a production WSGI server instead.\n",
      " * Running on http://127.0.0.1:8058\n",
      "Press CTRL+C to quit\n",
      "127.0.0.1 - - [30/Jun/2023 01:00:38] \"GET / HTTP/1.1\" 200 -\n",
      "127.0.0.1 - - [30/Jun/2023 01:00:38] \"GET /_dash-dependencies HTTP/1.1\" 200 -\n",
      "127.0.0.1 - - [30/Jun/2023 01:00:38] \"GET /_dash-layout HTTP/1.1\" 200 -\n",
      "127.0.0.1 - - [30/Jun/2023 01:00:38] \"GET /_favicon.ico?v=2.10.2 HTTP/1.1\" 200 -\n",
      "127.0.0.1 - - [30/Jun/2023 01:00:38] \"GET /_dash-component-suites/dash/dcc/async-graph.js HTTP/1.1\" 304 -\n",
      "127.0.0.1 - - [30/Jun/2023 01:00:38] \"GET /_dash-component-suites/dash/dcc/async-dropdown.js HTTP/1.1\" 304 -\n",
      "127.0.0.1 - - [30/Jun/2023 01:00:38] \"GET /_dash-component-suites/dash/dcc/async-slider.js HTTP/1.1\" 304 -\n",
      "127.0.0.1 - - [30/Jun/2023 01:00:38] \"GET /_dash-component-suites/dash/dcc/async-plotlyjs.js HTTP/1.1\" 304 -\n",
      "127.0.0.1 - - [30/Jun/2023 01:00:38] \"GET /_dash-component-suites/dash/dcc/async-datepicker.js HTTP/1.1\" 304 -\n",
      "127.0.0.1 - - [30/Jun/2023 01:00:39] \"POST /_dash-update-component HTTP/1.1\" 200 -\n",
      "127.0.0.1 - - [30/Jun/2023 01:00:39] \"POST /_dash-update-component HTTP/1.1\" 200 -\n",
      "127.0.0.1 - - [30/Jun/2023 01:00:39] \"POST /_dash-update-component HTTP/1.1\" 200 -\n",
      "127.0.0.1 - - [30/Jun/2023 01:00:39] \"POST /_dash-update-component HTTP/1.1\" 200 -\n"
     ]
    }
   ],
   "source": [
    "# Ejecutar\n",
    "if __name__=='__main__':\n",
    "    app.run_server(port=8058)"
   ]
  },
  {
   "cell_type": "code",
   "execution_count": null,
   "id": "7bbc4470",
   "metadata": {},
   "outputs": [],
   "source": []
  },
  {
   "cell_type": "code",
   "execution_count": null,
   "id": "c825b500",
   "metadata": {},
   "outputs": [],
   "source": []
  }
 ],
 "metadata": {
  "kernelspec": {
   "display_name": "Python 3 (ipykernel)",
   "language": "python",
   "name": "python3"
  },
  "language_info": {
   "codemirror_mode": {
    "name": "ipython",
    "version": 3
   },
   "file_extension": ".py",
   "mimetype": "text/x-python",
   "name": "python",
   "nbconvert_exporter": "python",
   "pygments_lexer": "ipython3",
   "version": "3.10.11"
  }
 },
 "nbformat": 4,
 "nbformat_minor": 5
}
